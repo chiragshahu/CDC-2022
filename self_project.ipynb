{
 "cells": [
  {
   "cell_type": "code",
   "execution_count": 5,
   "metadata": {},
   "outputs": [],
   "source": [
    "import tensorflow as tf\n",
    "from tensorflow.keras import models,layers\n",
    "import matplotlib as plt\n",
    "from sklearn.utils import shuffle"
   ]
  },
  {
   "cell_type": "code",
   "execution_count": 6,
   "metadata": {},
   "outputs": [
    {
     "name": "stdout",
     "output_type": "stream",
     "text": [
      "Found 2152 files belonging to 3 classes.\n"
     ]
    }
   ],
   "source": [
    "dataset = tf.keras.preprocessing.image_dataset_from_directory(\n",
    "    \"data\",\n",
    "    shuffle=True,\n",
    "    image_size = (256,256),\n",
    "    batch_size = 32\n",
    ")"
   ]
  },
  {
   "cell_type": "code",
   "execution_count": 7,
   "metadata": {},
   "outputs": [],
   "source": [
    "class_names = dataset.class_names"
   ]
  },
  {
   "cell_type": "code",
   "execution_count": 8,
   "metadata": {},
   "outputs": [],
   "source": [
    "def divide_dataset(dataset,train_size=0.8,valid_size=0.1,test_size=0.1,shuffle=True):\n",
    "    \n",
    "    assert(train_size + test_size + valid_size == 1)\n",
    "\n",
    "    if shuffle:\n",
    "        dataset = dataset .shuffle(100000)\n",
    "\n",
    "    size = len(dataset)\n",
    "    train_size = int (size*train_size)\n",
    "    test_size = int (size*test_size)\n",
    "    valid_size = int (size*valid_size)\n",
    "\n",
    "    train = dataset.take(train_size)\n",
    "    temp = dataset.skip(train_size)\n",
    "    valid = temp.take(valid_size)\n",
    "    test = temp.skip(valid_size)\n",
    "\n",
    "    return train , valid , test"
   ]
  },
  {
   "cell_type": "code",
   "execution_count": 9,
   "metadata": {},
   "outputs": [],
   "source": [
    "train , valid , test = divide_dataset(dataset)"
   ]
  },
  {
   "cell_type": "code",
   "execution_count": 11,
   "metadata": {},
   "outputs": [],
   "source": [
    "train = train.cache().shuffle(1000).prefetch(buffer_size=tf.data.AUTOTUNE)\n",
    "valid = valid.cache().shuffle(1000).prefetch(buffer_size=tf.data.AUTOTUNE)\n",
    "test = test.cache().shuffle(1000).prefetch(buffer_size=tf.data.AUTOTUNE)"
   ]
  },
  {
   "cell_type": "code",
   "execution_count": 17,
   "metadata": {},
   "outputs": [],
   "source": [
    "size_scale = tf.keras.Sequential([\n",
    "    layers.experimental.preprocessing.Resizing(256,256),\n",
    "    layers.experimental.preprocessing.Rescaling(1.0/255)\n",
    "])"
   ]
  },
  {
   "cell_type": "code",
   "execution_count": 15,
   "metadata": {},
   "outputs": [],
   "source": [
    "augmentation = tf.keras.Sequential([\n",
    "    layers.experimental.preprocessing.RandomFlip(\"horizontal_and_vertical\"),\n",
    "    layers.experimental.preprocessing.RandomRotation(0.2)\n",
    "])"
   ]
  },
  {
   "cell_type": "code",
   "execution_count": 21,
   "metadata": {},
   "outputs": [],
   "source": [
    "model = models.Sequential([\n",
    "\n",
    "    size_scale,\n",
    "    augmentation,\n",
    "\n",
    "    layers.Conv2D(32 , kernel_size=(3,3) , activation='relu' , input_shape=(32,256,256,3) ),\n",
    "    layers.MaxPooling2D((2,2)),\n",
    "    layers.Conv2D(64 , kernel_size=(3,3) , activation='relu'),\n",
    "    layers.MaxPooling2D((2,2)),\n",
    "    layers.Conv2D(64 , kernel_size=(3,3) , activation='relu'),\n",
    "    layers.MaxPooling2D((2,2)),\n",
    "    layers.Conv2D(64 , kernel_size=(3,3) , activation='relu'),\n",
    "    layers.MaxPooling2D((2,2)),\n",
    "\n",
    "    layers.Flatten(),\n",
    "    layers.Dense(64,activation='relu'),\n",
    "    layers.Dense(3,activation=\"softmax\"),\n",
    "])\n",
    "model.build(input_shape = (32,256,256,3) )"
   ]
  },
  {
   "cell_type": "code",
   "execution_count": 24,
   "metadata": {},
   "outputs": [],
   "source": [
    "# model.summary()"
   ]
  },
  {
   "cell_type": "code",
   "execution_count": 25,
   "metadata": {},
   "outputs": [],
   "source": [
    "model.compile(\n",
    "    optimizer = \"adam\",\n",
    "    loss = tf.losses.SparseCategoricalCrossentropy(from_logits=False),\n",
    "    metrics=['accuracy']\n",
    ")"
   ]
  },
  {
   "cell_type": "code",
   "execution_count": 26,
   "metadata": {},
   "outputs": [
    {
     "name": "stdout",
     "output_type": "stream",
     "text": [
      "Epoch 1/50\n",
      "54/54 [==============================] - 93s 2s/step - loss: 0.9276 - accuracy: 0.4683 - val_loss: 0.8392 - val_accuracy: 0.5060\n",
      "Epoch 2/50\n",
      "54/54 [==============================] - 64s 1s/step - loss: 0.8722 - accuracy: 0.5651 - val_loss: 0.7368 - val_accuracy: 0.6488\n",
      "Epoch 3/50\n",
      "54/54 [==============================] - 64s 1s/step - loss: 0.6354 - accuracy: 0.7570 - val_loss: 0.5335 - val_accuracy: 0.8214\n",
      "Epoch 4/50\n",
      "54/54 [==============================] - 63s 1s/step - loss: 0.4232 - accuracy: 0.8339 - val_loss: 0.3006 - val_accuracy: 0.8690\n",
      "Epoch 5/50\n",
      "54/54 [==============================] - 63s 1s/step - loss: 0.2916 - accuracy: 0.8873 - val_loss: 0.1960 - val_accuracy: 0.9167\n",
      "Epoch 6/50\n",
      "54/54 [==============================] - 62s 1s/step - loss: 0.2616 - accuracy: 0.8950 - val_loss: 0.2366 - val_accuracy: 0.8988\n",
      "Epoch 7/50\n",
      "54/54 [==============================] - 63s 1s/step - loss: 0.2225 - accuracy: 0.9126 - val_loss: 0.1707 - val_accuracy: 0.9345\n",
      "Epoch 8/50\n",
      "54/54 [==============================] - 62s 1s/step - loss: 0.1790 - accuracy: 0.9284 - val_loss: 0.1166 - val_accuracy: 0.9524\n",
      "Epoch 9/50\n",
      "54/54 [==============================] - 61s 1s/step - loss: 0.1931 - accuracy: 0.9208 - val_loss: 0.1447 - val_accuracy: 0.9345\n",
      "Epoch 10/50\n",
      "54/54 [==============================] - 60s 1s/step - loss: 0.2201 - accuracy: 0.9114 - val_loss: 0.1514 - val_accuracy: 0.9107\n",
      "Epoch 11/50\n",
      "54/54 [==============================] - 60s 1s/step - loss: 0.1297 - accuracy: 0.9489 - val_loss: 0.1882 - val_accuracy: 0.9405\n",
      "Epoch 12/50\n",
      "54/54 [==============================] - 60s 1s/step - loss: 0.1413 - accuracy: 0.9419 - val_loss: 0.2574 - val_accuracy: 0.8929\n",
      "Epoch 13/50\n",
      "54/54 [==============================] - 60s 1s/step - loss: 0.2168 - accuracy: 0.9190 - val_loss: 0.1334 - val_accuracy: 0.9583\n",
      "Epoch 14/50\n",
      "54/54 [==============================] - 60s 1s/step - loss: 0.1184 - accuracy: 0.9525 - val_loss: 0.1621 - val_accuracy: 0.9345\n",
      "Epoch 15/50\n",
      "54/54 [==============================] - 60s 1s/step - loss: 0.1141 - accuracy: 0.9601 - val_loss: 0.4496 - val_accuracy: 0.8571\n",
      "Epoch 16/50\n",
      "54/54 [==============================] - 60s 1s/step - loss: 0.0914 - accuracy: 0.9677 - val_loss: 0.1109 - val_accuracy: 0.9762\n",
      "Epoch 17/50\n",
      "54/54 [==============================] - 60s 1s/step - loss: 0.0978 - accuracy: 0.9642 - val_loss: 0.1189 - val_accuracy: 0.9643\n",
      "Epoch 18/50\n",
      "54/54 [==============================] - 60s 1s/step - loss: 0.0816 - accuracy: 0.9677 - val_loss: 0.1969 - val_accuracy: 0.9286\n",
      "Epoch 19/50\n",
      "54/54 [==============================] - 57s 1s/step - loss: 0.1038 - accuracy: 0.9624 - val_loss: 0.2530 - val_accuracy: 0.8690\n",
      "Epoch 20/50\n",
      "54/54 [==============================] - 55s 1s/step - loss: 0.1439 - accuracy: 0.9489 - val_loss: 0.1905 - val_accuracy: 0.9286\n",
      "Epoch 21/50\n",
      "54/54 [==============================] - 55s 1s/step - loss: 0.1173 - accuracy: 0.9531 - val_loss: 0.2839 - val_accuracy: 0.8929\n",
      "Epoch 22/50\n",
      "54/54 [==============================] - 55s 1s/step - loss: 0.0730 - accuracy: 0.9754 - val_loss: 0.1128 - val_accuracy: 0.9524\n",
      "Epoch 23/50\n",
      "54/54 [==============================] - 55s 1s/step - loss: 0.0911 - accuracy: 0.9583 - val_loss: 0.1581 - val_accuracy: 0.9464\n",
      "Epoch 24/50\n",
      "54/54 [==============================] - 55s 1s/step - loss: 0.0793 - accuracy: 0.9695 - val_loss: 0.1833 - val_accuracy: 0.9345\n",
      "Epoch 25/50\n",
      "54/54 [==============================] - 56s 1s/step - loss: 0.0593 - accuracy: 0.9771 - val_loss: 0.1651 - val_accuracy: 0.9345\n",
      "Epoch 26/50\n",
      "54/54 [==============================] - 55s 1s/step - loss: 0.0833 - accuracy: 0.9677 - val_loss: 0.0621 - val_accuracy: 0.9762\n",
      "Epoch 27/50\n",
      "54/54 [==============================] - 56s 1s/step - loss: 0.0838 - accuracy: 0.9707 - val_loss: 0.1185 - val_accuracy: 0.9583\n",
      "Epoch 28/50\n",
      "54/54 [==============================] - 55s 1s/step - loss: 0.0461 - accuracy: 0.9830 - val_loss: 0.2154 - val_accuracy: 0.9167\n",
      "Epoch 29/50\n",
      "54/54 [==============================] - 56s 1s/step - loss: 0.0481 - accuracy: 0.9830 - val_loss: 0.0631 - val_accuracy: 0.9762\n",
      "Epoch 30/50\n",
      "54/54 [==============================] - 55s 1s/step - loss: 0.0420 - accuracy: 0.9865 - val_loss: 0.1010 - val_accuracy: 0.9643\n",
      "Epoch 31/50\n",
      "54/54 [==============================] - 57s 1s/step - loss: 0.0490 - accuracy: 0.9812 - val_loss: 0.0558 - val_accuracy: 0.9821\n",
      "Epoch 32/50\n",
      "54/54 [==============================] - 55s 1s/step - loss: 0.0509 - accuracy: 0.9800 - val_loss: 0.1564 - val_accuracy: 0.9345\n",
      "Epoch 33/50\n",
      "54/54 [==============================] - 55s 1s/step - loss: 0.0618 - accuracy: 0.9742 - val_loss: 0.5979 - val_accuracy: 0.8452\n",
      "Epoch 34/50\n",
      "54/54 [==============================] - 55s 1s/step - loss: 0.0624 - accuracy: 0.9771 - val_loss: 0.0836 - val_accuracy: 0.9702\n",
      "Epoch 35/50\n",
      "54/54 [==============================] - 55s 1s/step - loss: 0.0425 - accuracy: 0.9830 - val_loss: 0.1079 - val_accuracy: 0.9643\n",
      "Epoch 36/50\n",
      "54/54 [==============================] - 55s 1s/step - loss: 0.0361 - accuracy: 0.9888 - val_loss: 0.2554 - val_accuracy: 0.9345\n",
      "Epoch 37/50\n",
      "54/54 [==============================] - 55s 1s/step - loss: 0.0516 - accuracy: 0.9818 - val_loss: 0.1474 - val_accuracy: 0.9345\n",
      "Epoch 38/50\n",
      "54/54 [==============================] - 55s 1s/step - loss: 0.0444 - accuracy: 0.9806 - val_loss: 0.2050 - val_accuracy: 0.9345\n",
      "Epoch 39/50\n",
      "54/54 [==============================] - 55s 1s/step - loss: 0.0340 - accuracy: 0.9883 - val_loss: 0.0280 - val_accuracy: 0.9881\n",
      "Epoch 40/50\n",
      "54/54 [==============================] - 55s 1s/step - loss: 0.0577 - accuracy: 0.9830 - val_loss: 0.0767 - val_accuracy: 0.9762\n",
      "Epoch 41/50\n",
      "54/54 [==============================] - 55s 1s/step - loss: 0.0620 - accuracy: 0.9771 - val_loss: 0.1234 - val_accuracy: 0.9643\n",
      "Epoch 42/50\n",
      "54/54 [==============================] - 61s 1s/step - loss: 0.0431 - accuracy: 0.9871 - val_loss: 0.1636 - val_accuracy: 0.9583\n",
      "Epoch 43/50\n",
      "54/54 [==============================] - 60s 1s/step - loss: 0.0570 - accuracy: 0.9812 - val_loss: 0.1726 - val_accuracy: 0.9464\n",
      "Epoch 44/50\n",
      "54/54 [==============================] - 60s 1s/step - loss: 0.0315 - accuracy: 0.9883 - val_loss: 0.0783 - val_accuracy: 0.9702\n",
      "Epoch 45/50\n",
      "54/54 [==============================] - 60s 1s/step - loss: 0.0324 - accuracy: 0.9877 - val_loss: 0.1647 - val_accuracy: 0.9286\n",
      "Epoch 46/50\n",
      "54/54 [==============================] - 60s 1s/step - loss: 0.0337 - accuracy: 0.9871 - val_loss: 0.1601 - val_accuracy: 0.9345\n",
      "Epoch 47/50\n",
      "54/54 [==============================] - 60s 1s/step - loss: 0.0231 - accuracy: 0.9918 - val_loss: 0.1010 - val_accuracy: 0.9524\n",
      "Epoch 48/50\n",
      "54/54 [==============================] - 60s 1s/step - loss: 0.0378 - accuracy: 0.9883 - val_loss: 0.1398 - val_accuracy: 0.9583\n",
      "Epoch 49/50\n",
      "54/54 [==============================] - 59s 1s/step - loss: 0.0222 - accuracy: 0.9935 - val_loss: 0.1284 - val_accuracy: 0.9583\n",
      "Epoch 50/50\n",
      "54/54 [==============================] - 59s 1s/step - loss: 0.0467 - accuracy: 0.9836 - val_loss: 0.0656 - val_accuracy: 0.9702\n"
     ]
    }
   ],
   "source": [
    "history = model.fit(\n",
    "    train,\n",
    "    batch_size=32,\n",
    "    validation_data=valid,\n",
    "    verbose=1,\n",
    "    epochs=50\n",
    ")"
   ]
  },
  {
   "cell_type": "code",
   "execution_count": 27,
   "metadata": {},
   "outputs": [
    {
     "data": {
      "text/plain": [
       "{'verbose': 1, 'epochs': 50, 'steps': 54}"
      ]
     },
     "execution_count": 27,
     "metadata": {},
     "output_type": "execute_result"
    }
   ],
   "source": [
    "history.params"
   ]
  },
  {
   "cell_type": "code",
   "execution_count": 28,
   "metadata": {},
   "outputs": [
    {
     "name": "stdout",
     "output_type": "stream",
     "text": [
      "8/8 [==============================] - 7s 275ms/step - loss: 0.0393 - accuracy: 0.9844\n"
     ]
    }
   ],
   "source": [
    "scores = model.evaluate(test)"
   ]
  },
  {
   "cell_type": "code",
   "execution_count": 29,
   "metadata": {},
   "outputs": [
    {
     "data": {
      "text/plain": [
       "[0.039313215762376785, 0.984375]"
      ]
     },
     "execution_count": 29,
     "metadata": {},
     "output_type": "execute_result"
    }
   ],
   "source": [
    "scores"
   ]
  },
  {
   "cell_type": "code",
   "execution_count": 33,
   "metadata": {},
   "outputs": [],
   "source": [
    "import pandas as pd"
   ]
  },
  {
   "cell_type": "code",
   "execution_count": 56,
   "metadata": {},
   "outputs": [
    {
     "data": {
      "text/plain": [
       "48"
      ]
     },
     "execution_count": 56,
     "metadata": {},
     "output_type": "execute_result"
    }
   ],
   "source": [
    "d = [None]*48\n",
    "len(d)"
   ]
  },
  {
   "cell_type": "code",
   "execution_count": 57,
   "metadata": {},
   "outputs": [],
   "source": [
    "dk = pd.DataFrame()\n",
    "dk[\"train_accuracy\"] = history.history[\"accuracy\"]\n",
    "dk[\"valid_accuracy\"] = history.history[\"val_accuracy\"]\n",
    "dk[\"train_losses\"] = history.history[\"loss\"]\n",
    "dk[\"valid_losses\"] = history.history[\"val_loss\"]\n",
    "dk[\"test_info\"] = [\"test_loss = 0.039313215762376785\" , \"test_accuracy = 0.984375\"] + d\n",
    "dk.to_csv(\"results.csv\",index=False)"
   ]
  },
  {
   "cell_type": "code",
   "execution_count": 58,
   "metadata": {},
   "outputs": [
    {
     "data": {
      "text/html": [
       "<div>\n",
       "<style scoped>\n",
       "    .dataframe tbody tr th:only-of-type {\n",
       "        vertical-align: middle;\n",
       "    }\n",
       "\n",
       "    .dataframe tbody tr th {\n",
       "        vertical-align: top;\n",
       "    }\n",
       "\n",
       "    .dataframe thead th {\n",
       "        text-align: right;\n",
       "    }\n",
       "</style>\n",
       "<table border=\"1\" class=\"dataframe\">\n",
       "  <thead>\n",
       "    <tr style=\"text-align: right;\">\n",
       "      <th></th>\n",
       "      <th>train_accuracy</th>\n",
       "      <th>valid_accuracy</th>\n",
       "      <th>train_losses</th>\n",
       "      <th>valid_losses</th>\n",
       "      <th>test_info</th>\n",
       "    </tr>\n",
       "  </thead>\n",
       "  <tbody>\n",
       "    <tr>\n",
       "      <th>0</th>\n",
       "      <td>0.468310</td>\n",
       "      <td>0.505952</td>\n",
       "      <td>0.927617</td>\n",
       "      <td>0.839199</td>\n",
       "      <td>test_loss = 0.039313215762376785</td>\n",
       "    </tr>\n",
       "    <tr>\n",
       "      <th>1</th>\n",
       "      <td>0.565141</td>\n",
       "      <td>0.648810</td>\n",
       "      <td>0.872209</td>\n",
       "      <td>0.736754</td>\n",
       "      <td>test_accuracy = 0.984375</td>\n",
       "    </tr>\n",
       "    <tr>\n",
       "      <th>2</th>\n",
       "      <td>0.757042</td>\n",
       "      <td>0.821429</td>\n",
       "      <td>0.635447</td>\n",
       "      <td>0.533484</td>\n",
       "      <td>NaN</td>\n",
       "    </tr>\n",
       "    <tr>\n",
       "      <th>3</th>\n",
       "      <td>0.833920</td>\n",
       "      <td>0.869048</td>\n",
       "      <td>0.423228</td>\n",
       "      <td>0.300569</td>\n",
       "      <td>NaN</td>\n",
       "    </tr>\n",
       "    <tr>\n",
       "      <th>4</th>\n",
       "      <td>0.887324</td>\n",
       "      <td>0.916667</td>\n",
       "      <td>0.291574</td>\n",
       "      <td>0.195984</td>\n",
       "      <td>NaN</td>\n",
       "    </tr>\n",
       "  </tbody>\n",
       "</table>\n",
       "</div>"
      ],
      "text/plain": [
       "   train_accuracy  valid_accuracy  train_losses  valid_losses  \\\n",
       "0        0.468310        0.505952      0.927617      0.839199   \n",
       "1        0.565141        0.648810      0.872209      0.736754   \n",
       "2        0.757042        0.821429      0.635447      0.533484   \n",
       "3        0.833920        0.869048      0.423228      0.300569   \n",
       "4        0.887324        0.916667      0.291574      0.195984   \n",
       "\n",
       "                          test_info  \n",
       "0  test_loss = 0.039313215762376785  \n",
       "1          test_accuracy = 0.984375  \n",
       "2                               NaN  \n",
       "3                               NaN  \n",
       "4                               NaN  "
      ]
     },
     "execution_count": 58,
     "metadata": {},
     "output_type": "execute_result"
    }
   ],
   "source": [
    "dk=pd.read_csv(\"results.csv\")\n",
    "dk.head()"
   ]
  },
  {
   "cell_type": "code",
   "execution_count": 59,
   "metadata": {},
   "outputs": [
    {
     "name": "stderr",
     "output_type": "stream",
     "text": [
      "WARNING:absl:Found untraced functions such as _jit_compiled_convolution_op, _jit_compiled_convolution_op, _jit_compiled_convolution_op, _jit_compiled_convolution_op, _jit_compiled_convolution_op while saving (showing 5 of 6). These functions will not be directly callable after loading.\n"
     ]
    },
    {
     "name": "stdout",
     "output_type": "stream",
     "text": [
      "INFO:tensorflow:Assets written to: D:\\IIT-KGP\\Deep Learning\\Diese_classification\\Results\\assets\n"
     ]
    },
    {
     "name": "stderr",
     "output_type": "stream",
     "text": [
      "INFO:tensorflow:Assets written to: D:\\IIT-KGP\\Deep Learning\\Diese_classification\\Results\\assets\n"
     ]
    }
   ],
   "source": [
    "model_version = 1\n",
    "model.save(f\"D:\\IIT-KGP\\Deep Learning\\Diese_classification\\Results\")"
   ]
  },
  {
   "cell_type": "code",
   "execution_count": null,
   "metadata": {},
   "outputs": [],
   "source": []
  }
 ],
 "metadata": {
  "kernelspec": {
   "display_name": "Python 3.9.6 64-bit",
   "language": "python",
   "name": "python3"
  },
  "language_info": {
   "codemirror_mode": {
    "name": "ipython",
    "version": 3
   },
   "file_extension": ".py",
   "mimetype": "text/x-python",
   "name": "python",
   "nbconvert_exporter": "python",
   "pygments_lexer": "ipython3",
   "version": "3.9.6"
  },
  "orig_nbformat": 4,
  "vscode": {
   "interpreter": {
    "hash": "abe7f09ed24bcfc9f9937cc1e69811806511a17e7b8783133190dfb3d01695e2"
   }
  }
 },
 "nbformat": 4,
 "nbformat_minor": 2
}
